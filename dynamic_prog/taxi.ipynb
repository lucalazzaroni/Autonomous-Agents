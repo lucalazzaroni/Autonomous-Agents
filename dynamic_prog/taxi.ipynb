{
 "cells": [
  {
   "cell_type": "code",
   "execution_count": null,
   "metadata": {},
   "outputs": [],
   "source": [
    "import gym\n",
    "import numpy as np\n",
    "import random\n",
    "\n",
    "# create Frozen Lake environment\n",
    "env = gym.make('Taxi-v3', render_mode='human')\n",
    "\n",
    "num_episodes = 10\n",
    "goals_reached = 0\n",
    "\n",
    "for episode in range(num_episodes):\n",
    "    env.reset()\n",
    "    terminated = False\n",
    "    print(f'Episode: {episode + 1}/{num_episodes}')\n",
    "\n",
    "    while not terminated:\n",
    "        \n",
    "        # sample a random action from the list of available actions\n",
    "        action = env.action_space.sample()\n",
    "\n",
    "        # perform this action on the environment\n",
    "        obs, reward, terminated, truncated, info = env.step(action)\n",
    "        taxi_row, taxi_col, pass_idx, dest_idx = env.decode(obs)\n",
    "        # print(taxi_row, taxi_col, pass_idx, dest_idx)\n",
    "        if terminated:\n",
    "            '''\n",
    "            The observation is a value representing the agent's current position as\n",
    "            current_row * nrows + current_col (where both the row and col start at 0).\n",
    "            For example, the goal position in the 4x4 map can be calculated as follows: 3 * 4 + 3 = 15.\n",
    "            '''\n",
    "            \n",
    "            print('Success!')\n",
    "            goals_reached += 1\n",
    "            \n",
    "# end this instance of the environment\n",
    "env.close()\n",
    "print(f'\\nSuccess rate:\\t{goals_reached / num_episodes * 100}%')"
   ]
  },
  {
   "cell_type": "code",
   "execution_count": null,
   "metadata": {},
   "outputs": [],
   "source": [
    "obs_space = env.observation_space\n",
    "action_space = env.action_space\n",
    "print(f'The observation space: {obs_space}') # Strucure: Low, High, shape, type\n",
    "print(f'The action space: {action_space}')\n",
    "\n",
    "# reset the environment and see the initial observation\n",
    "obs, _ = env.reset()\n",
    "print(f'Current observation: {obs}')\n",
    "\n",
    "# Sample a random action from the entire action space\n",
    "random_action = env.action_space.sample()\n",
    "\n",
    "# # Take the action and get the new observation space\n",
    "new_obs, reward, terminated, truncated, info = env.step(random_action)\n",
    "print(f'New observation: {new_obs}')\n",
    "\n",
    "env_pic = env.render()\n",
    "\n",
    "\n",
    "# Close the environment\n",
    "env.close()"
   ]
  },
  {
   "cell_type": "code",
   "execution_count": null,
   "metadata": {},
   "outputs": [],
   "source": []
  }
 ],
 "metadata": {
  "kernelspec": {
   "display_name": "Python 3.8.13 ('AAgents')",
   "language": "python",
   "name": "python3"
  },
  "language_info": {
   "codemirror_mode": {
    "name": "ipython",
    "version": 3
   },
   "file_extension": ".py",
   "mimetype": "text/x-python",
   "name": "python",
   "nbconvert_exporter": "python",
   "pygments_lexer": "ipython3",
   "version": "3.8.13"
  },
  "orig_nbformat": 4,
  "vscode": {
   "interpreter": {
    "hash": "12b05080b40121a7174c4e193b868817cef3e378743ab35c0db9aabd1ea00484"
   }
  }
 },
 "nbformat": 4,
 "nbformat_minor": 2
}
