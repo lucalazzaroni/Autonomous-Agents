{
 "cells": [
  {
   "cell_type": "markdown",
   "metadata": {},
   "source": [
    "## Policy Improvement\n",
    "\n",
    "It takes the state-value function of the policy we want to improve, the MDP and gamma (optionally)"
   ]
  },
  {
   "cell_type": "code",
   "execution_count": 26,
   "metadata": {},
   "outputs": [],
   "source": [
    "import numpy as np\n",
    "\n",
    "def policy_improvement(V, P, gamma=1.0):\n",
    "    \n",
    "    # initialize the Q-function to zero (technically, we\n",
    "    # can initialize these randomly, but let’s keep things simple).\n",
    "    Q = np.zeros((len(P), len(P[0])))\n",
    "    \n",
    "    # loop through the states, actions, and transitions.\n",
    "    for s in range(len(P)):\n",
    "        for a in range(len(P[s])):\n",
    "            for prob, next_state, reward, done in P[s][a]:\n",
    "                \n",
    "                # use those values to calculate the Q-function.\n",
    "                Q[s][a] += prob * (reward + gamma * V[next_state] * (not done))\n",
    "                \n",
    "    # obtain a new, greedy policy by taking the argmax of the Q-function            \n",
    "    new_pi = lambda s: {s:a for s, a in enumerate(np.argmax(Q, axis=1))}[s]\n",
    "    \n",
    "    return new_pi"
   ]
  },
  {
   "cell_type": "markdown",
   "metadata": {},
   "source": [
    "We can consider the \"careful\" policy on the frozen-lake environment and its state value function:"
   ]
  },
  {
   "cell_type": "code",
   "execution_count": 27,
   "metadata": {},
   "outputs": [],
   "source": [
    "import gym\n",
    "\n",
    "env = gym.make('FrozenLake-v1')\n",
    "P = env.env.P\n",
    "init_state, _ = env.reset()\n",
    "goal_state = 15"
   ]
  },
  {
   "cell_type": "code",
   "execution_count": 28,
   "metadata": {},
   "outputs": [],
   "source": [
    "LEFT, DOWN, RIGHT, UP = range(4)\n",
    "\n",
    "careful_pi = lambda s: {\n",
    "    0:LEFT, 1:UP, 2:UP, 3:UP,\n",
    "    4:LEFT, 5:LEFT, 6:UP, 7:LEFT,\n",
    "    8:UP, 9:DOWN, 10:LEFT, 11:LEFT,\n",
    "    12:LEFT, 13:RIGHT, 14:RIGHT, 15:LEFT\n",
    "}[s]"
   ]
  },
  {
   "cell_type": "code",
   "execution_count": 29,
   "metadata": {},
   "outputs": [],
   "source": [
    "import numpy as np\n",
    "\n",
    "def policy_evaluation(pi, P, gamma=1.0, theta=1e-10):\n",
    "    prev_V = np.zeros(len(P))\n",
    "    while True:\n",
    "        V = np.zeros(len(P))\n",
    "        for s in range(len(P)):\n",
    "            for prob, next_state, reward, done in P[s][pi(s)]:\n",
    "                V[s] += prob * (reward + gamma * prev_V[next_state] * (not done))\n",
    "        if np.max(np.abs(prev_V - V)) < theta:\n",
    "            break\n",
    "        prev_V = V.copy()\n",
    "    return V"
   ]
  },
  {
   "cell_type": "code",
   "execution_count": 30,
   "metadata": {},
   "outputs": [],
   "source": [
    "V = policy_evaluation(careful_pi, P, gamma=0.99)"
   ]
  },
  {
   "cell_type": "markdown",
   "metadata": {},
   "source": [
    "Now we can try to improve the policy:"
   ]
  },
  {
   "cell_type": "code",
   "execution_count": 31,
   "metadata": {},
   "outputs": [],
   "source": [
    "careful_plus_pi = policy_improvement(V, P, gamma=0.99)"
   ]
  },
  {
   "cell_type": "markdown",
   "metadata": {},
   "source": [
    "We can show the improved policy, its probability of success and its main return using simulation:"
   ]
  },
  {
   "cell_type": "code",
   "execution_count": 32,
   "metadata": {},
   "outputs": [],
   "source": [
    "def print_policy(pi, P, action_symbols=('<', 'v', '>', '^'), n_cols=4, title='Policy:'):\n",
    "    print(title)\n",
    "    arrs = {k:v for k,v in enumerate(action_symbols)}\n",
    "    for s in range(len(P)):\n",
    "        a = pi(s)\n",
    "        print(\"| \", end=\"\")\n",
    "        if np.all([done for action in P[s].values() for _, _, _, done in action]):\n",
    "            print(\"\".rjust(9), end=\" \")\n",
    "        else:\n",
    "            print(str(s).zfill(2), arrs[a].rjust(6), end=\" \")\n",
    "        if (s + 1) % n_cols == 0: print(\"|\")"
   ]
  },
  {
   "cell_type": "code",
   "execution_count": 33,
   "metadata": {},
   "outputs": [],
   "source": [
    "import random\n",
    "\n",
    "def probability_success(env, pi, goal_state, n_episodes=100, max_steps=200):\n",
    "    random.seed(123); np.random.seed(123) ; # env.seed(123)\n",
    "    results = []\n",
    "    for _ in range(n_episodes):\n",
    "        state, _ = env.reset()\n",
    "        done, steps = False, 0\n",
    "        while not done and steps < max_steps:\n",
    "            state, _, done, _, h = env.step(pi(state))\n",
    "            steps += 1\n",
    "        results.append(state == goal_state)\n",
    "    return np.sum(results)/len(results)"
   ]
  },
  {
   "cell_type": "code",
   "execution_count": 34,
   "metadata": {},
   "outputs": [],
   "source": [
    "def mean_return(env, pi, n_episodes=100, max_steps=200):\n",
    "    random.seed(123); np.random.seed(123) ; # env.seed(123)\n",
    "    results = []\n",
    "    for _ in range(n_episodes):\n",
    "        state, _ = env.reset()\n",
    "        done, steps = False, 0\n",
    "        results.append(0.0)\n",
    "        while not done and steps < max_steps:\n",
    "            state, reward, done, _, _ = env.step(pi(state))\n",
    "            results[-1] += reward\n",
    "            steps += 1\n",
    "    return np.mean(results)"
   ]
  },
  {
   "cell_type": "code",
   "execution_count": 35,
   "metadata": {},
   "outputs": [
    {
     "name": "stdout",
     "output_type": "stream",
     "text": [
      "Policy:\n",
      "| 00      < | 01      ^ | 02      ^ | 03      ^ |\n",
      "| 04      < |           | 06      < |           |\n",
      "| 08      ^ | 09      v | 10      < |           |\n",
      "|           | 13      > | 14      v |           |\n",
      "Reaches goal 85.00%. Obtains an average undiscounted return of 0.7900.\n"
     ]
    }
   ],
   "source": [
    "print_policy(careful_plus_pi, P)\n",
    "\n",
    "ps = probability_success(env, careful_plus_pi, goal_state=goal_state)*100\n",
    "mr = mean_return(env, careful_plus_pi)\n",
    "\n",
    "print('Reaches goal {:.2f}%. Obtains an average undiscounted return of {:.4f}.'.format(ps,mr))"
   ]
  },
  {
   "cell_type": "markdown",
   "metadata": {},
   "source": [
    "The new policy is better than the original policy. This is great! "
   ]
  },
  {
   "cell_type": "markdown",
   "metadata": {},
   "source": [
    "Is there a better policy than this one? We can try to improve the careful-plus policy:"
   ]
  },
  {
   "cell_type": "code",
   "execution_count": 36,
   "metadata": {},
   "outputs": [],
   "source": [
    "V = policy_evaluation(careful_plus_pi, P, gamma=0.99)\n",
    "careful_plus_plus_pi = policy_improvement(V, P, gamma=0.99)"
   ]
  },
  {
   "cell_type": "code",
   "execution_count": 37,
   "metadata": {},
   "outputs": [
    {
     "name": "stdout",
     "output_type": "stream",
     "text": [
      "Policy:\n",
      "| 00      < | 01      ^ | 02      ^ | 03      ^ |\n",
      "| 04      < |           | 06      < |           |\n",
      "| 08      ^ | 09      v | 10      < |           |\n",
      "|           | 13      > | 14      v |           |\n",
      "Reaches goal 80.00%. Obtains an average undiscounted return of 0.8100.\n"
     ]
    }
   ],
   "source": [
    "print_policy(careful_plus_plus_pi, P)\n",
    "\n",
    "ps = probability_success(env, careful_plus_plus_pi, goal_state=goal_state)*100\n",
    "mr = mean_return(env, careful_plus_plus_pi)\n",
    "\n",
    "print('Reaches goal {:.2f}%. Obtains an average undiscounted return of {:.4f}.'.format(ps,mr))"
   ]
  },
  {
   "cell_type": "markdown",
   "metadata": {},
   "source": [
    "There’s no improvement this time. The careful-plus policy is an optimal policy of the frozen-lake environment."
   ]
  },
  {
   "cell_type": "markdown",
   "metadata": {},
   "source": [
    "Even if we start with an **adversarial policy** (designed to perform poorly), alternating policy evaluation and improvement would still end up with an optimal policy:"
   ]
  },
  {
   "cell_type": "code",
   "execution_count": 38,
   "metadata": {},
   "outputs": [],
   "source": [
    "adversarial_pi = lambda s: {\n",
    "    0:UP, 1:UP, 2:UP, 3:UP,\n",
    "    4:UP, 5:LEFT, 6:UP, 7:LEFT,\n",
    "    8:LEFT, 9:LEFT, 10:LEFT, 11:LEFT,\n",
    "    12:LEFT, 13:LEFT, 14:LEFT, 15:LEFT\n",
    "}[s]"
   ]
  },
  {
   "cell_type": "code",
   "execution_count": 39,
   "metadata": {},
   "outputs": [
    {
     "name": "stdout",
     "output_type": "stream",
     "text": [
      "Policy:\n",
      "| 00      ^ | 01      ^ | 02      ^ | 03      ^ |\n",
      "| 04      ^ |           | 06      ^ |           |\n",
      "| 08      < | 09      < | 10      < |           |\n",
      "|           | 13      < | 14      < |           |\n",
      "Reaches goal 0.00%. Obtains an average undiscounted return of 0.0000.\n"
     ]
    }
   ],
   "source": [
    "print_policy(adversarial_pi, P)\n",
    "\n",
    "ps = probability_success(env, adversarial_pi, goal_state=goal_state)*100\n",
    "mr = mean_return(env, adversarial_pi)\n",
    "\n",
    "print('Reaches goal {:.2f}%. Obtains an average undiscounted return of {:.4f}.'.format(ps,mr))"
   ]
  },
  {
   "cell_type": "code",
   "execution_count": 40,
   "metadata": {},
   "outputs": [],
   "source": [
    "V = policy_evaluation(adversarial_pi, P, gamma=0.99)\n",
    "adversarial_pi_2 = policy_improvement(V, P, gamma=0.99)"
   ]
  },
  {
   "cell_type": "code",
   "execution_count": 41,
   "metadata": {},
   "outputs": [
    {
     "name": "stdout",
     "output_type": "stream",
     "text": [
      "Policy:\n",
      "| 00      < | 01      < | 02      < | 03      < |\n",
      "| 04      < |           | 06      < |           |\n",
      "| 08      < | 09      < | 10      < |           |\n",
      "|           | 13      < | 14      v |           |\n",
      "Reaches goal 0.00%. Obtains an average undiscounted return of 0.0000.\n"
     ]
    }
   ],
   "source": [
    "print_policy(adversarial_pi_2, P)\n",
    "\n",
    "ps = probability_success(env, adversarial_pi_2, goal_state=goal_state)*100\n",
    "mr = mean_return(env, adversarial_pi_2)\n",
    "\n",
    "print('Reaches goal {:.2f}%. Obtains an average undiscounted return of {:.4f}.'.format(ps,mr))"
   ]
  },
  {
   "cell_type": "code",
   "execution_count": 42,
   "metadata": {},
   "outputs": [],
   "source": [
    "V = policy_evaluation(adversarial_pi_2, P, gamma=0.99)\n",
    "adversarial_pi_3 = policy_improvement(V, P, gamma=0.99)"
   ]
  },
  {
   "cell_type": "code",
   "execution_count": 43,
   "metadata": {},
   "outputs": [
    {
     "name": "stdout",
     "output_type": "stream",
     "text": [
      "Policy:\n",
      "| 00      < | 01      v | 02      > | 03      ^ |\n",
      "| 04      < |           | 06      < |           |\n",
      "| 08      < | 09      v | 10      < |           |\n",
      "|           | 13      v | 14      > |           |\n",
      "Reaches goal 0.00%. Obtains an average undiscounted return of 0.0000.\n"
     ]
    }
   ],
   "source": [
    "print_policy(adversarial_pi_3, P)\n",
    "\n",
    "ps = probability_success(env, adversarial_pi_3, goal_state=goal_state)*100\n",
    "mr = mean_return(env, adversarial_pi_3)\n",
    "\n",
    "print('Reaches goal {:.2f}%. Obtains an average undiscounted return of {:.4f}.'.format(ps,mr))"
   ]
  },
  {
   "cell_type": "code",
   "execution_count": 44,
   "metadata": {},
   "outputs": [],
   "source": [
    "V = policy_evaluation(adversarial_pi_3, P, gamma=0.99)\n",
    "adversarial_pi_4 = policy_improvement(V, P, gamma=0.99)"
   ]
  },
  {
   "cell_type": "code",
   "execution_count": 45,
   "metadata": {},
   "outputs": [
    {
     "name": "stdout",
     "output_type": "stream",
     "text": [
      "Policy:\n",
      "| 00      v | 01      > | 02      > | 03      ^ |\n",
      "| 04      < |           | 06      < |           |\n",
      "| 08      v | 09      v | 10      < |           |\n",
      "|           | 13      > | 14      > |           |\n",
      "Reaches goal 16.00%. Obtains an average undiscounted return of 0.2200.\n"
     ]
    }
   ],
   "source": [
    "print_policy(adversarial_pi_4, P)\n",
    "\n",
    "ps = probability_success(env, adversarial_pi_4, goal_state=goal_state)*100\n",
    "mr = mean_return(env, adversarial_pi_4)\n",
    "\n",
    "print('Reaches goal {:.2f}%. Obtains an average undiscounted return of {:.4f}.'.format(ps,mr))"
   ]
  },
  {
   "cell_type": "code",
   "execution_count": 46,
   "metadata": {},
   "outputs": [],
   "source": [
    "V = policy_evaluation(adversarial_pi_4, P, gamma=0.99)\n",
    "adversarial_pi_5 = policy_improvement(V, P, gamma=0.99)"
   ]
  },
  {
   "cell_type": "code",
   "execution_count": 47,
   "metadata": {},
   "outputs": [
    {
     "name": "stdout",
     "output_type": "stream",
     "text": [
      "Policy:\n",
      "| 00      < | 01      ^ | 02      > | 03      ^ |\n",
      "| 04      < |           | 06      < |           |\n",
      "| 08      ^ | 09      v | 10      < |           |\n",
      "|           | 13      > | 14      v |           |\n",
      "Reaches goal 71.00%. Obtains an average undiscounted return of 0.8000.\n"
     ]
    }
   ],
   "source": [
    "print_policy(adversarial_pi_5, P)\n",
    "\n",
    "ps = probability_success(env, adversarial_pi_5, goal_state=goal_state)*100\n",
    "mr = mean_return(env, adversarial_pi_5)\n",
    "\n",
    "print('Reaches goal {:.2f}%. Obtains an average undiscounted return of {:.4f}.'.format(ps,mr))"
   ]
  },
  {
   "cell_type": "code",
   "execution_count": null,
   "metadata": {},
   "outputs": [],
   "source": []
  }
 ],
 "metadata": {
  "colab": {
   "collapsed_sections": [],
   "name": "math_differential_calculus",
   "provenance": [],
   "toc_visible": true
  },
  "kernelspec": {
   "display_name": "Python 3.8.13 ('AAgents')",
   "language": "python",
   "name": "python3"
  },
  "language_info": {
   "codemirror_mode": {
    "name": "ipython",
    "version": 3
   },
   "file_extension": ".py",
   "mimetype": "text/x-python",
   "name": "python",
   "nbconvert_exporter": "python",
   "pygments_lexer": "ipython3",
   "version": "3.8.13"
  },
  "pycharm": {
   "stem_cell": {
    "cell_type": "raw",
    "metadata": {
     "collapsed": false
    },
    "source": []
   }
  },
  "vscode": {
   "interpreter": {
    "hash": "12b05080b40121a7174c4e193b868817cef3e378743ab35c0db9aabd1ea00484"
   }
  }
 },
 "nbformat": 4,
 "nbformat_minor": 4
}
