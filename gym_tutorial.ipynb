{
 "cells": [
  {
   "cell_type": "markdown",
   "metadata": {},
   "source": [
    "# Frozen Lake on Gym"
   ]
  },
  {
   "cell_type": "code",
   "execution_count": 2,
   "metadata": {},
   "outputs": [],
   "source": [
    "import gym\n",
    "import numpy as np\n",
    "import random\n",
    "from gym.envs.toy_text.frozen_lake import generate_random_map"
   ]
  },
  {
   "cell_type": "markdown",
   "metadata": {},
   "source": [
    "## Create the Frozen Lake environment\n",
    "Gym allows you to exploit pre-built environments, including the Frozen Lake one. If ```is_slippery``` is set to ```True```, the agent will have a 1/3 probability to move left, up or down, regardless of the action chosen.\n",
    "\n",
    "We start with random actions."
   ]
  },
  {
   "cell_type": "code",
   "execution_count": 7,
   "metadata": {},
   "outputs": [
    {
     "name": "stdout",
     "output_type": "stream",
     "text": [
      "Episode:\t1/10\n",
      "Episode:\t2/10\n",
      "Episode:\t3/10\n",
      "Episode:\t4/10\n",
      "Episode:\t5/10\n",
      "Episode:\t6/10\n",
      "Episode:\t7/10\n",
      "Episode:\t8/10\n",
      "Episode:\t9/10\n",
      "Episode:\t10/10\n",
      "\n",
      "Success rate:\t0.0%\n"
     ]
    }
   ],
   "source": [
    "# create Frozen Lake environment\n",
    "env = gym.make('FrozenLake-v1', is_slippery=True, render_mode='human')\n",
    "\n",
    "# print(env.action_space)\n",
    "# print(env.observation_space)\n",
    "\n",
    "num_episodes = 10\n",
    "goals_reached = 0\n",
    "\n",
    "for episode in range(num_episodes):\n",
    "    env.reset()\n",
    "    terminated = False\n",
    "    print(f'Episode: {episode + 1}/{num_episodes}')\n",
    "\n",
    "    while not terminated:\n",
    "        \n",
    "        # sample a random action from the list of available actions\n",
    "        action = env.action_space.sample()\n",
    "\n",
    "        # perform this action on the environment\n",
    "        obs, reward, terminated, truncated, info = env.step(action)\n",
    "\n",
    "        # render the environment in a pygame window\n",
    "        env.render()\n",
    "        \n",
    "        if terminated and obs == 15:\n",
    "            '''\n",
    "            The observation is a value representing the agent's current position as\n",
    "            current_row * nrows + current_col (where both the row and col start at 0).\n",
    "            For example, the goal position in the 4x4 map can be calculated as follows: 3 * 4 + 3 = 15.\n",
    "            '''\n",
    "            print('Success!')\n",
    "            goals_reached += 1\n",
    "            \n",
    "# end this instance of the environment\n",
    "env.close()\n",
    "print(f'\\nSuccess rate:\\t{goals_reached / num_episodes * 100}%')"
   ]
  },
  {
   "cell_type": "markdown",
   "metadata": {},
   "source": [
    "## Let's increase the difficulty!"
   ]
  },
  {
   "cell_type": "code",
   "execution_count": null,
   "metadata": {},
   "outputs": [],
   "source": [
    "# create Frozen Lake environment\n",
    "env = gym.make('FrozenLake-v1', desc=generate_random_map(size=8), is_slippery=True, render_mode='human')\n",
    "\n"
   ]
  },
  {
   "cell_type": "code",
   "execution_count": null,
   "metadata": {},
   "outputs": [],
   "source": []
  }
 ],
 "metadata": {
  "kernelspec": {
   "display_name": "Python 3.8.13 ('AAgents')",
   "language": "python",
   "name": "python3"
  },
  "language_info": {
   "codemirror_mode": {
    "name": "ipython",
    "version": 3
   },
   "file_extension": ".py",
   "mimetype": "text/x-python",
   "name": "python",
   "nbconvert_exporter": "python",
   "pygments_lexer": "ipython3",
   "version": "3.8.13"
  },
  "orig_nbformat": 4,
  "vscode": {
   "interpreter": {
    "hash": "12b05080b40121a7174c4e193b868817cef3e378743ab35c0db9aabd1ea00484"
   }
  }
 },
 "nbformat": 4,
 "nbformat_minor": 2
}
